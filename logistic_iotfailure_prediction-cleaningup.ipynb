{
  "cells": [
    {
      "cell_type": "markdown",
      "metadata": {
        "id": "view-in-github",
        "colab_type": "text"
      },
      "source": [
        "<a href=\"https://colab.research.google.com/github/mehulmotani/share/blob/main/logistic_iotfailure_prediction-cleaningup.ipynb\" target=\"_parent\"><img src=\"https://colab.research.google.com/assets/colab-badge.svg\" alt=\"Open In Colab\"/></a>"
      ]
    },
    {
      "cell_type": "markdown",
      "metadata": {
        "collapsed": true,
        "id": "krPLe5qv2bJX"
      },
      "source": [
        "# IoT Equipment Failure Prediction using Sensor data\n",
        "## 1 Environment Setup\n",
        "### 1.1 Import dependent libraries"
      ]
    },
    {
      "cell_type": "code",
      "execution_count": 16,
      "metadata": {
        "id": "111npGum2bJa"
      },
      "outputs": [],
      "source": [
        "# Import libraries\n",
        "import pandas as pd\n",
        "import numpy as np\n",
        "import pdb\n",
        "import json\n",
        "import re\n",
        "import requests\n",
        "import sys\n",
        "import types"
      ]
    },
    {
      "cell_type": "code",
      "execution_count": 17,
      "metadata": {
        "id": "CPlKgftO2bJc"
      },
      "outputs": [],
      "source": [
        "# Import libraries\n",
        "from io import StringIO\n",
        "from sklearn.model_selection import train_test_split\n",
        "from sklearn.linear_model import LogisticRegression\n",
        "from sklearn import metrics"
      ]
    },
    {
      "cell_type": "markdown",
      "metadata": {
        "id": "IxaLvqEV2bJc"
      },
      "source": [
        "## 2 Create IoT Predictive Analytics Functions"
      ]
    },
    {
      "cell_type": "code",
      "execution_count": 18,
      "metadata": {
        "id": "90Z-oWXP2bJc"
      },
      "outputs": [],
      "source": [
        "# Function to extract Column names of dataset\n",
        "def dataset_columns(dataset):\n",
        "    return list(dataset.columns.values)\n",
        "\n",
        "# Function to train Logistic regression model\n",
        "def train_logistic_regression(x_vals, y_vals):\n",
        "    logistic_regression_model = LogisticRegression()\n",
        "    logistic_regression_model.fit(x_vals, y_vals)\n",
        "    return logistic_regression_model\n",
        "\n",
        "# Function to return Predicted values\n",
        "def score_data(trained_model, x_vals):\n",
        "    ypredict = trained_model.predict(x_vals)\n",
        "    return ypredict\n",
        "\n",
        "# Function to calculate Prediction accuracy of model\n",
        "def model_accuracy(trained_model, variables, targets):\n",
        "    accuracy_score = trained_model.score(variables, targets)\n",
        "    return accuracy_score\n",
        "\n",
        "# Function to generate Confusion matrix\n",
        "def confusion_matrix(actfail, predictfail):\n",
        "  # Compute Confusion matrix\n",
        "  print(\"Actual, Predicted Observations:  \",len(actfail), len(predictfail))\n",
        "  # print(actfail, predictfail)\n",
        "  anpn = 0\n",
        "  anpy = 0\n",
        "  aypn = 0\n",
        "  aypy = 0\n",
        "  \n",
        "  for i in range(len(actfail)):\n",
        "      if (actfail[i]==0 and predictfail[i]==0):\n",
        "          anpn = anpn + 1\n",
        "      elif (actfail[i]==0 and predictfail[i]==1):\n",
        "          anpy = anpy + 1\n",
        "      elif (actfail[i]==1 and predictfail[i]==0):\n",
        "          aypn = aypn + 1\n",
        "      else:\n",
        "          aypy = aypy + 1\n",
        "  # Confusoin matrix\n",
        "  print (\"--------------------------------------------\")\n",
        "  print (\"Confusion Matrix\")\n",
        "  print (\"--------------------------------------------\")\n",
        "  print (\"              \", \"Predicted N\", \"Predicted Y\")\n",
        "  print (\"Actual N      \", anpn,\"          \", anpy) \n",
        "  print (\"Actual Y      \", aypn,\"          \", aypy)\n",
        "  print (\"--------------------------------------------\")\n",
        "  print (\"Total observations  :  \", anpn+anpy+aypn+aypy)\n",
        "  print (\"False Positives     :  \", anpy)\n",
        "  print (\"False Negatives     :  \", aypn)\n",
        "  print (\"Overall Accuracy    :  \", round((float(anpn+aypy)/float(anpn+anpy+aypn+aypy))*100, 2), \"%\")\n",
        "  print (\"Sensitivity/Recall  :  \", round((float(aypy)/float(aypn+aypy))*100, 2), \"%\")\n",
        "  print (\"Specificity         :  \", round((float(anpn)/float(anpn+anpy))*100, 2), \"%\")\n",
        "  print (\"Precision           :  \", round((float(aypy)/float(anpy+aypy))*100, 2), \"%\")\n",
        "  print (\"--------------------------------------------\")\n"
      ]
    },
    {
      "cell_type": "markdown",
      "metadata": {
        "id": "AcKACJmR2bJe"
      },
      "source": [
        "## 4 Read IoT Sensor data from database"
      ]
    },
    {
      "cell_type": "code",
      "execution_count": 29,
      "metadata": {
        "id": "aHxj_P0i2bJe",
        "outputId": "e76d87b2-8255-4cd5-e236-7ed6c74c2422",
        "colab": {
          "base_uri": "https://localhost:8080/",
          "height": 206
        }
      },
      "outputs": [
        {
          "output_type": "execute_result",
          "data": {
            "text/plain": [
              "  PlayTennis   Outlook Temperature Humidity    Wind\n",
              "0         no     sunny         hot     high    weak\n",
              "1         no     sunny         hot     high  strong\n",
              "2        yes  overcast         hot     high    weak\n",
              "3        yes      rain        mild     high    weak\n",
              "4        yes      rain        cool   normal    weak"
            ],
            "text/html": [
              "\n",
              "  <div id=\"df-542d12e4-2bf6-4451-9d41-f6769d7d1ba2\">\n",
              "    <div class=\"colab-df-container\">\n",
              "      <div>\n",
              "<style scoped>\n",
              "    .dataframe tbody tr th:only-of-type {\n",
              "        vertical-align: middle;\n",
              "    }\n",
              "\n",
              "    .dataframe tbody tr th {\n",
              "        vertical-align: top;\n",
              "    }\n",
              "\n",
              "    .dataframe thead th {\n",
              "        text-align: right;\n",
              "    }\n",
              "</style>\n",
              "<table border=\"1\" class=\"dataframe\">\n",
              "  <thead>\n",
              "    <tr style=\"text-align: right;\">\n",
              "      <th></th>\n",
              "      <th>PlayTennis</th>\n",
              "      <th>Outlook</th>\n",
              "      <th>Temperature</th>\n",
              "      <th>Humidity</th>\n",
              "      <th>Wind</th>\n",
              "    </tr>\n",
              "  </thead>\n",
              "  <tbody>\n",
              "    <tr>\n",
              "      <th>0</th>\n",
              "      <td>no</td>\n",
              "      <td>sunny</td>\n",
              "      <td>hot</td>\n",
              "      <td>high</td>\n",
              "      <td>weak</td>\n",
              "    </tr>\n",
              "    <tr>\n",
              "      <th>1</th>\n",
              "      <td>no</td>\n",
              "      <td>sunny</td>\n",
              "      <td>hot</td>\n",
              "      <td>high</td>\n",
              "      <td>strong</td>\n",
              "    </tr>\n",
              "    <tr>\n",
              "      <th>2</th>\n",
              "      <td>yes</td>\n",
              "      <td>overcast</td>\n",
              "      <td>hot</td>\n",
              "      <td>high</td>\n",
              "      <td>weak</td>\n",
              "    </tr>\n",
              "    <tr>\n",
              "      <th>3</th>\n",
              "      <td>yes</td>\n",
              "      <td>rain</td>\n",
              "      <td>mild</td>\n",
              "      <td>high</td>\n",
              "      <td>weak</td>\n",
              "    </tr>\n",
              "    <tr>\n",
              "      <th>4</th>\n",
              "      <td>yes</td>\n",
              "      <td>rain</td>\n",
              "      <td>cool</td>\n",
              "      <td>normal</td>\n",
              "      <td>weak</td>\n",
              "    </tr>\n",
              "  </tbody>\n",
              "</table>\n",
              "</div>\n",
              "      <button class=\"colab-df-convert\" onclick=\"convertToInteractive('df-542d12e4-2bf6-4451-9d41-f6769d7d1ba2')\"\n",
              "              title=\"Convert this dataframe to an interactive table.\"\n",
              "              style=\"display:none;\">\n",
              "        \n",
              "  <svg xmlns=\"http://www.w3.org/2000/svg\" height=\"24px\"viewBox=\"0 0 24 24\"\n",
              "       width=\"24px\">\n",
              "    <path d=\"M0 0h24v24H0V0z\" fill=\"none\"/>\n",
              "    <path d=\"M18.56 5.44l.94 2.06.94-2.06 2.06-.94-2.06-.94-.94-2.06-.94 2.06-2.06.94zm-11 1L8.5 8.5l.94-2.06 2.06-.94-2.06-.94L8.5 2.5l-.94 2.06-2.06.94zm10 10l.94 2.06.94-2.06 2.06-.94-2.06-.94-.94-2.06-.94 2.06-2.06.94z\"/><path d=\"M17.41 7.96l-1.37-1.37c-.4-.4-.92-.59-1.43-.59-.52 0-1.04.2-1.43.59L10.3 9.45l-7.72 7.72c-.78.78-.78 2.05 0 2.83L4 21.41c.39.39.9.59 1.41.59.51 0 1.02-.2 1.41-.59l7.78-7.78 2.81-2.81c.8-.78.8-2.07 0-2.86zM5.41 20L4 18.59l7.72-7.72 1.47 1.35L5.41 20z\"/>\n",
              "  </svg>\n",
              "      </button>\n",
              "      \n",
              "  <style>\n",
              "    .colab-df-container {\n",
              "      display:flex;\n",
              "      flex-wrap:wrap;\n",
              "      gap: 12px;\n",
              "    }\n",
              "\n",
              "    .colab-df-convert {\n",
              "      background-color: #E8F0FE;\n",
              "      border: none;\n",
              "      border-radius: 50%;\n",
              "      cursor: pointer;\n",
              "      display: none;\n",
              "      fill: #1967D2;\n",
              "      height: 32px;\n",
              "      padding: 0 0 0 0;\n",
              "      width: 32px;\n",
              "    }\n",
              "\n",
              "    .colab-df-convert:hover {\n",
              "      background-color: #E2EBFA;\n",
              "      box-shadow: 0px 1px 2px rgba(60, 64, 67, 0.3), 0px 1px 3px 1px rgba(60, 64, 67, 0.15);\n",
              "      fill: #174EA6;\n",
              "    }\n",
              "\n",
              "    [theme=dark] .colab-df-convert {\n",
              "      background-color: #3B4455;\n",
              "      fill: #D2E3FC;\n",
              "    }\n",
              "\n",
              "    [theme=dark] .colab-df-convert:hover {\n",
              "      background-color: #434B5C;\n",
              "      box-shadow: 0px 1px 3px 1px rgba(0, 0, 0, 0.15);\n",
              "      filter: drop-shadow(0px 1px 2px rgba(0, 0, 0, 0.3));\n",
              "      fill: #FFFFFF;\n",
              "    }\n",
              "  </style>\n",
              "\n",
              "      <script>\n",
              "        const buttonEl =\n",
              "          document.querySelector('#df-542d12e4-2bf6-4451-9d41-f6769d7d1ba2 button.colab-df-convert');\n",
              "        buttonEl.style.display =\n",
              "          google.colab.kernel.accessAllowed ? 'block' : 'none';\n",
              "\n",
              "        async function convertToInteractive(key) {\n",
              "          const element = document.querySelector('#df-542d12e4-2bf6-4451-9d41-f6769d7d1ba2');\n",
              "          const dataTable =\n",
              "            await google.colab.kernel.invokeFunction('convertToInteractive',\n",
              "                                                     [key], {});\n",
              "          if (!dataTable) return;\n",
              "\n",
              "          const docLinkHtml = 'Like what you see? Visit the ' +\n",
              "            '<a target=\"_blank\" href=https://colab.research.google.com/notebooks/data_table.ipynb>data table notebook</a>'\n",
              "            + ' to learn more about interactive tables.';\n",
              "          element.innerHTML = '';\n",
              "          dataTable['output_type'] = 'display_data';\n",
              "          await google.colab.output.renderOutput(dataTable, element);\n",
              "          const docLink = document.createElement('div');\n",
              "          docLink.innerHTML = docLinkHtml;\n",
              "          element.appendChild(docLink);\n",
              "        }\n",
              "      </script>\n",
              "    </div>\n",
              "  </div>\n",
              "  "
            ]
          },
          "metadata": {},
          "execution_count": 29
        }
      ],
      "source": [
        "#df_iotdata = pd.read_csv(\"iot_sensor_dataset.csv\")\n",
        "df_iotdata = pd.read_csv(\"https://raw.githubusercontent.com/mehulmotani/share/main/iot_sensor_dataset_clean.csv\")\n",
        "\n",
        "url=\"https://raw.githubusercontent.com/mehulmotani/share/main/tennis.csv\"\n",
        "df_tennis=pd.read_csv(url)\n",
        "df_tennis.head()"
      ]
    },
    {
      "cell_type": "code",
      "execution_count": 30,
      "metadata": {
        "id": "R3X-Kk0W2bJf",
        "outputId": "b41b7390-5f4b-41d8-9701-29c969cba57e",
        "colab": {
          "base_uri": "https://localhost:8080/",
          "height": 224
        }
      },
      "outputs": [
        {
          "output_type": "stream",
          "name": "stdout",
          "text": [
            "Number of Observations : 944\n"
          ]
        },
        {
          "output_type": "execute_result",
          "data": {
            "text/plain": [
              "   footfall  atemp  selfLR  ClinLR  DoleLR  PID  outpressure  inpressure  \\\n",
              "0         0      7       7       1       6    6           36           3   \n",
              "1       190      1       3       3       5    1           20           4   \n",
              "2        31      7       2       2       6    1           24           6   \n",
              "3        83      4       3       4       5    1           28           6   \n",
              "4       640      7       5       6       4    0           68           6   \n",
              "\n",
              "   temp  fail  \n",
              "0     1     1  \n",
              "1     1     0  \n",
              "2     1     0  \n",
              "3     1     0  \n",
              "4     1     0  "
            ],
            "text/html": [
              "\n",
              "  <div id=\"df-1a1b2b6a-0c05-412f-b5d8-c3bd78377a05\">\n",
              "    <div class=\"colab-df-container\">\n",
              "      <div>\n",
              "<style scoped>\n",
              "    .dataframe tbody tr th:only-of-type {\n",
              "        vertical-align: middle;\n",
              "    }\n",
              "\n",
              "    .dataframe tbody tr th {\n",
              "        vertical-align: top;\n",
              "    }\n",
              "\n",
              "    .dataframe thead th {\n",
              "        text-align: right;\n",
              "    }\n",
              "</style>\n",
              "<table border=\"1\" class=\"dataframe\">\n",
              "  <thead>\n",
              "    <tr style=\"text-align: right;\">\n",
              "      <th></th>\n",
              "      <th>footfall</th>\n",
              "      <th>atemp</th>\n",
              "      <th>selfLR</th>\n",
              "      <th>ClinLR</th>\n",
              "      <th>DoleLR</th>\n",
              "      <th>PID</th>\n",
              "      <th>outpressure</th>\n",
              "      <th>inpressure</th>\n",
              "      <th>temp</th>\n",
              "      <th>fail</th>\n",
              "    </tr>\n",
              "  </thead>\n",
              "  <tbody>\n",
              "    <tr>\n",
              "      <th>0</th>\n",
              "      <td>0</td>\n",
              "      <td>7</td>\n",
              "      <td>7</td>\n",
              "      <td>1</td>\n",
              "      <td>6</td>\n",
              "      <td>6</td>\n",
              "      <td>36</td>\n",
              "      <td>3</td>\n",
              "      <td>1</td>\n",
              "      <td>1</td>\n",
              "    </tr>\n",
              "    <tr>\n",
              "      <th>1</th>\n",
              "      <td>190</td>\n",
              "      <td>1</td>\n",
              "      <td>3</td>\n",
              "      <td>3</td>\n",
              "      <td>5</td>\n",
              "      <td>1</td>\n",
              "      <td>20</td>\n",
              "      <td>4</td>\n",
              "      <td>1</td>\n",
              "      <td>0</td>\n",
              "    </tr>\n",
              "    <tr>\n",
              "      <th>2</th>\n",
              "      <td>31</td>\n",
              "      <td>7</td>\n",
              "      <td>2</td>\n",
              "      <td>2</td>\n",
              "      <td>6</td>\n",
              "      <td>1</td>\n",
              "      <td>24</td>\n",
              "      <td>6</td>\n",
              "      <td>1</td>\n",
              "      <td>0</td>\n",
              "    </tr>\n",
              "    <tr>\n",
              "      <th>3</th>\n",
              "      <td>83</td>\n",
              "      <td>4</td>\n",
              "      <td>3</td>\n",
              "      <td>4</td>\n",
              "      <td>5</td>\n",
              "      <td>1</td>\n",
              "      <td>28</td>\n",
              "      <td>6</td>\n",
              "      <td>1</td>\n",
              "      <td>0</td>\n",
              "    </tr>\n",
              "    <tr>\n",
              "      <th>4</th>\n",
              "      <td>640</td>\n",
              "      <td>7</td>\n",
              "      <td>5</td>\n",
              "      <td>6</td>\n",
              "      <td>4</td>\n",
              "      <td>0</td>\n",
              "      <td>68</td>\n",
              "      <td>6</td>\n",
              "      <td>1</td>\n",
              "      <td>0</td>\n",
              "    </tr>\n",
              "  </tbody>\n",
              "</table>\n",
              "</div>\n",
              "      <button class=\"colab-df-convert\" onclick=\"convertToInteractive('df-1a1b2b6a-0c05-412f-b5d8-c3bd78377a05')\"\n",
              "              title=\"Convert this dataframe to an interactive table.\"\n",
              "              style=\"display:none;\">\n",
              "        \n",
              "  <svg xmlns=\"http://www.w3.org/2000/svg\" height=\"24px\"viewBox=\"0 0 24 24\"\n",
              "       width=\"24px\">\n",
              "    <path d=\"M0 0h24v24H0V0z\" fill=\"none\"/>\n",
              "    <path d=\"M18.56 5.44l.94 2.06.94-2.06 2.06-.94-2.06-.94-.94-2.06-.94 2.06-2.06.94zm-11 1L8.5 8.5l.94-2.06 2.06-.94-2.06-.94L8.5 2.5l-.94 2.06-2.06.94zm10 10l.94 2.06.94-2.06 2.06-.94-2.06-.94-.94-2.06-.94 2.06-2.06.94z\"/><path d=\"M17.41 7.96l-1.37-1.37c-.4-.4-.92-.59-1.43-.59-.52 0-1.04.2-1.43.59L10.3 9.45l-7.72 7.72c-.78.78-.78 2.05 0 2.83L4 21.41c.39.39.9.59 1.41.59.51 0 1.02-.2 1.41-.59l7.78-7.78 2.81-2.81c.8-.78.8-2.07 0-2.86zM5.41 20L4 18.59l7.72-7.72 1.47 1.35L5.41 20z\"/>\n",
              "  </svg>\n",
              "      </button>\n",
              "      \n",
              "  <style>\n",
              "    .colab-df-container {\n",
              "      display:flex;\n",
              "      flex-wrap:wrap;\n",
              "      gap: 12px;\n",
              "    }\n",
              "\n",
              "    .colab-df-convert {\n",
              "      background-color: #E8F0FE;\n",
              "      border: none;\n",
              "      border-radius: 50%;\n",
              "      cursor: pointer;\n",
              "      display: none;\n",
              "      fill: #1967D2;\n",
              "      height: 32px;\n",
              "      padding: 0 0 0 0;\n",
              "      width: 32px;\n",
              "    }\n",
              "\n",
              "    .colab-df-convert:hover {\n",
              "      background-color: #E2EBFA;\n",
              "      box-shadow: 0px 1px 2px rgba(60, 64, 67, 0.3), 0px 1px 3px 1px rgba(60, 64, 67, 0.15);\n",
              "      fill: #174EA6;\n",
              "    }\n",
              "\n",
              "    [theme=dark] .colab-df-convert {\n",
              "      background-color: #3B4455;\n",
              "      fill: #D2E3FC;\n",
              "    }\n",
              "\n",
              "    [theme=dark] .colab-df-convert:hover {\n",
              "      background-color: #434B5C;\n",
              "      box-shadow: 0px 1px 3px 1px rgba(0, 0, 0, 0.15);\n",
              "      filter: drop-shadow(0px 1px 2px rgba(0, 0, 0, 0.3));\n",
              "      fill: #FFFFFF;\n",
              "    }\n",
              "  </style>\n",
              "\n",
              "      <script>\n",
              "        const buttonEl =\n",
              "          document.querySelector('#df-1a1b2b6a-0c05-412f-b5d8-c3bd78377a05 button.colab-df-convert');\n",
              "        buttonEl.style.display =\n",
              "          google.colab.kernel.accessAllowed ? 'block' : 'none';\n",
              "\n",
              "        async function convertToInteractive(key) {\n",
              "          const element = document.querySelector('#df-1a1b2b6a-0c05-412f-b5d8-c3bd78377a05');\n",
              "          const dataTable =\n",
              "            await google.colab.kernel.invokeFunction('convertToInteractive',\n",
              "                                                     [key], {});\n",
              "          if (!dataTable) return;\n",
              "\n",
              "          const docLinkHtml = 'Like what you see? Visit the ' +\n",
              "            '<a target=\"_blank\" href=https://colab.research.google.com/notebooks/data_table.ipynb>data table notebook</a>'\n",
              "            + ' to learn more about interactive tables.';\n",
              "          element.innerHTML = '';\n",
              "          dataTable['output_type'] = 'display_data';\n",
              "          await google.colab.output.renderOutput(dataTable, element);\n",
              "          const docLink = document.createElement('div');\n",
              "          docLink.innerHTML = docLinkHtml;\n",
              "          element.appendChild(docLink);\n",
              "        }\n",
              "      </script>\n",
              "    </div>\n",
              "  </div>\n",
              "  "
            ]
          },
          "metadata": {},
          "execution_count": 30
        }
      ],
      "source": [
        "print (\"Number of Observations :\", len(df_iotdata))\n",
        "df_iotdata.head()"
      ]
    },
    {
      "cell_type": "code",
      "execution_count": 21,
      "metadata": {
        "id": "-LNvvpa_2bJg",
        "outputId": "b6f04806-da56-4ba8-c30a-16a9b08d94b9",
        "colab": {
          "base_uri": "https://localhost:8080/"
        }
      },
      "outputs": [
        {
          "output_type": "stream",
          "name": "stdout",
          "text": [
            "Data set columns :  ['footfall', 'atemp', 'selfLR', 'ClinLR', 'DoleLR', 'PID', 'outpressure', 'inpressure', 'temp', 'fail']\n"
          ]
        }
      ],
      "source": [
        "# Print dataset column names\n",
        "datacolumns = dataset_columns(df_iotdata)\n",
        "print (\"Data set columns : \", list(datacolumns))\n",
        "v_feature_list = ['atemp', 'PID', 'outpressure', 'inpressure', 'temp']\n",
        "v_target = ['fail']"
      ]
    },
    {
      "cell_type": "markdown",
      "metadata": {
        "id": "z0eSicoQ2bJh"
      },
      "source": [
        "## 5 Run Failure Prediction algorithm on IoT data\n",
        "### 5.1 Split data into Training and Test data"
      ]
    },
    {
      "cell_type": "code",
      "execution_count": 22,
      "metadata": {
        "id": "3_XkE9G92bJh",
        "outputId": "4a9c06f5-9237-4de2-faf1-72bef12c48e8",
        "colab": {
          "base_uri": "https://localhost:8080/"
        }
      },
      "outputs": [
        {
          "output_type": "stream",
          "name": "stdout",
          "text": [
            "Train x counts :  755 5\n",
            "Train y counts :  755\n",
            "Test x counts :  189 5\n",
            "Test y counts :  189\n"
          ]
        }
      ],
      "source": [
        "# Split Training and Testing data\n",
        "train_x, test_x, train_y, test_y = train_test_split(df_iotdata[v_feature_list], df_iotdata[v_target], train_size=0.8, test_size=0.2)\n",
        "print (\"Train x counts : \", len(train_x), len(train_x.columns.values))\n",
        "print (\"Train y counts : \", len(train_y))\n",
        " \n",
        "print (\"Test x counts : \", len(test_x), len(test_x.columns.values))\n",
        "print (\"Test y counts : \", len(test_y))\n"
      ]
    },
    {
      "cell_type": "markdown",
      "metadata": {
        "id": "BbdJ-KID2bJi"
      },
      "source": [
        "### 5.2 Train the Predictive model\n",
        "### $\\ln(\\frac{p}{1-p}) = \\beta_0 + \\beta_1 x_1 + \\beta_2 x_2 + \\beta_3 x_3 + \\beta_4 x_4 + \\beta_5 x_5$"
      ]
    },
    {
      "cell_type": "code",
      "execution_count": 23,
      "metadata": {
        "id": "7UhP2FHh2bJi",
        "outputId": "fd5ead03-2242-4268-e704-1d651fb23709",
        "colab": {
          "base_uri": "https://localhost:8080/"
        }
      },
      "outputs": [
        {
          "output_type": "stream",
          "name": "stdout",
          "text": [
            "Training Accuracy :  90.6 %\n"
          ]
        }
      ],
      "source": [
        "# Training Logistic regression model\n",
        "#trained_logistic_regression_model = train_logistic_regression(train_x, train_y)\n",
        "trained_logistic_regression_model = train_logistic_regression(train_x, train_y.values.ravel())\n",
        "\n",
        "train_accuracy = model_accuracy(trained_logistic_regression_model, train_x, train_y)\n",
        "\n",
        "# Testing the logistic regression model\n",
        "test_accuracy = model_accuracy(trained_logistic_regression_model, test_x, test_y)\n",
        "\n",
        "print (\"Training Accuracy : \", round(train_accuracy * 100, 2), \"%\")\n",
        "\n"
      ]
    },
    {
      "cell_type": "markdown",
      "metadata": {
        "id": "6fHCTlEu2bJi"
      },
      "source": [
        "### 5.3 Score the Test data using the Trained model"
      ]
    },
    {
      "cell_type": "code",
      "execution_count": 24,
      "metadata": {
        "id": "fDI8YR1F2bJj"
      },
      "outputs": [],
      "source": [
        "# Model accuracy: Score and construct Confusion matrix for Test data\n",
        "actfail = test_y.values\n",
        "predictfail = score_data(trained_logistic_regression_model, test_x)\n"
      ]
    },
    {
      "cell_type": "markdown",
      "metadata": {
        "id": "ggPvmfPE2bJj"
      },
      "source": [
        "## 6 Confusion matrix for deeper analysis of Prediction accuracy\n",
        "#####   Confusion matrix outputs below can be used for calculating more customised Accuracy metrics"
      ]
    },
    {
      "cell_type": "code",
      "execution_count": 25,
      "metadata": {
        "id": "aGRP_-BC2bJj",
        "outputId": "29b38215-837b-4889-9aa5-1d92e24256d8",
        "colab": {
          "base_uri": "https://localhost:8080/"
        }
      },
      "outputs": [
        {
          "output_type": "stream",
          "name": "stdout",
          "text": [
            "Actual, Predicted Observations:   189 189\n",
            "--------------------------------------------\n",
            "Confusion Matrix\n",
            "--------------------------------------------\n",
            "               Predicted N Predicted Y\n",
            "Actual N       102            13\n",
            "Actual Y       5            69\n",
            "--------------------------------------------\n",
            "Total observations  :   189\n",
            "False Positives     :   13\n",
            "False Negatives     :   5\n",
            "Overall Accuracy    :   90.48 %\n",
            "Sensitivity/Recall  :   93.24 %\n",
            "Specificity         :   88.7 %\n",
            "Precision           :   84.15 %\n",
            "--------------------------------------------\n"
          ]
        }
      ],
      "source": [
        "# Print Count of Actual fails, Predicted fails\n",
        "# Print Confusion matrix\n",
        "confusion_matrix(actfail, predictfail)"
      ]
    },
    {
      "cell_type": "code",
      "execution_count": null,
      "metadata": {
        "id": "OzbpckDr2bJk"
      },
      "outputs": [],
      "source": []
    },
    {
      "cell_type": "code",
      "execution_count": null,
      "metadata": {
        "id": "QoEgc7-82bJk"
      },
      "outputs": [],
      "source": []
    }
  ],
  "metadata": {
    "kernelspec": {
      "display_name": "Python 3",
      "language": "python",
      "name": "python3"
    },
    "language_info": {
      "codemirror_mode": {
        "name": "ipython",
        "version": 3
      },
      "file_extension": ".py",
      "mimetype": "text/x-python",
      "name": "python",
      "nbconvert_exporter": "python",
      "pygments_lexer": "ipython3",
      "version": "3.7.0"
    },
    "colab": {
      "provenance": [],
      "include_colab_link": true
    }
  },
  "nbformat": 4,
  "nbformat_minor": 0
}